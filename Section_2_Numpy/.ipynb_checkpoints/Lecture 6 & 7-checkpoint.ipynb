{
 "cells": [
  {
   "cell_type": "markdown",
   "metadata": {},
   "source": [
    "# Vectors and Matrices\n",
    "\n",
    "### Matrix : 2D numpy array\n",
    "### Vector : 1D numpy array"
   ]
  },
  {
   "cell_type": "code",
   "execution_count": 1,
   "metadata": {
    "collapsed": true
   },
   "outputs": [],
   "source": [
    "import numpy as np\n",
    "\n",
    "M = np.array([[1,2],[3,4]])    #defined a matrix having same number of columns and rows\n",
    "L = [[1,2],[3,4]]"
   ]
  },
  {
   "cell_type": "code",
   "execution_count": 2,
   "metadata": {},
   "outputs": [
    {
     "data": {
      "text/plain": [
       "(1, 3)"
      ]
     },
     "execution_count": 2,
     "metadata": {},
     "output_type": "execute_result"
    }
   ],
   "source": [
    "#accessing an elemnt from list is simple: l[0][0]\n",
    "#from matrix, both notation wud work:\n",
    "M[0][0], M[1,0]"
   ]
  },
  {
   "cell_type": "code",
   "execution_count": 3,
   "metadata": {},
   "outputs": [
    {
     "data": {
      "text/plain": [
       "matrix([[1, 2],\n",
       "        [3, 4]])"
      ]
     },
     "execution_count": 3,
     "metadata": {},
     "output_type": "execute_result"
    }
   ],
   "source": [
    "#Separate object exists from matrices in numpy:\n",
    "M2 = np.matrix([[1,2],[3,4]])\n",
    "M2"
   ]
  },
  {
   "cell_type": "markdown",
   "metadata": {},
   "source": [
    "But this works not exactly like the numpr array. Better not to use it for work extensively"
   ]
  },
  {
   "cell_type": "code",
   "execution_count": 4,
   "metadata": {},
   "outputs": [
    {
     "data": {
      "text/plain": [
       "array([[1, 2],\n",
       "       [3, 4]])"
      ]
     },
     "execution_count": 4,
     "metadata": {},
     "output_type": "execute_result"
    }
   ],
   "source": [
    "#So better ot convert the matrix into an np.array whenever we get it:\n",
    "M = np.array(M2)\n",
    "M"
   ]
  },
  {
   "cell_type": "markdown",
   "metadata": {},
   "source": [
    "Even though this matrix has been converted to an array, we can stilll perform matrix operations"
   ]
  },
  {
   "cell_type": "code",
   "execution_count": 5,
   "metadata": {},
   "outputs": [
    {
     "data": {
      "text/plain": [
       "array([[1, 3],\n",
       "       [2, 4]])"
      ]
     },
     "execution_count": 5,
     "metadata": {},
     "output_type": "execute_result"
    }
   ],
   "source": [
    "# transpose of M:\n",
    "M.T"
   ]
  },
  {
   "cell_type": "markdown",
   "metadata": {},
   "source": [
    "# Generating matrices to work with"
   ]
  },
  {
   "cell_type": "markdown",
   "metadata": {},
   "source": [
    "### Exhaustive to write all elements to create an array. So we do the following to auto-generate."
   ]
  },
  {
   "cell_type": "code",
   "execution_count": 6,
   "metadata": {},
   "outputs": [
    {
     "data": {
      "text/plain": [
       "array([ 0.,  0.,  0.,  0.,  0.,  0.,  0.,  0.,  0.,  0.])"
      ]
     },
     "execution_count": 6,
     "metadata": {},
     "output_type": "execute_result"
    }
   ],
   "source": [
    "Z = np.zeros(10)    #array to 10 zeroes\n",
    "Z"
   ]
  },
  {
   "cell_type": "code",
   "execution_count": 7,
   "metadata": {},
   "outputs": [
    {
     "data": {
      "text/plain": [
       "array([[ 0.,  0.,  0.,  0.,  0.,  0.,  0.,  0.,  0.,  0.],\n",
       "       [ 0.,  0.,  0.,  0.,  0.,  0.,  0.,  0.,  0.,  0.],\n",
       "       [ 0.,  0.,  0.,  0.,  0.,  0.,  0.,  0.,  0.,  0.],\n",
       "       [ 0.,  0.,  0.,  0.,  0.,  0.,  0.,  0.,  0.,  0.],\n",
       "       [ 0.,  0.,  0.,  0.,  0.,  0.,  0.,  0.,  0.,  0.],\n",
       "       [ 0.,  0.,  0.,  0.,  0.,  0.,  0.,  0.,  0.,  0.],\n",
       "       [ 0.,  0.,  0.,  0.,  0.,  0.,  0.,  0.,  0.,  0.],\n",
       "       [ 0.,  0.,  0.,  0.,  0.,  0.,  0.,  0.,  0.,  0.],\n",
       "       [ 0.,  0.,  0.,  0.,  0.,  0.,  0.,  0.,  0.,  0.],\n",
       "       [ 0.,  0.,  0.,  0.,  0.,  0.,  0.,  0.,  0.,  0.]])"
      ]
     },
     "execution_count": 7,
     "metadata": {},
     "output_type": "execute_result"
    }
   ],
   "source": [
    "Z = np.zeros((10, 10))    #a matrix of zeroes 10x10 dimension\n",
    "Z"
   ]
  },
  {
   "cell_type": "code",
   "execution_count": 8,
   "metadata": {},
   "outputs": [
    {
     "data": {
      "text/plain": [
       "array([[ 1.,  1.,  1.,  1.,  1.,  1.,  1.,  1.,  1.,  1.],\n",
       "       [ 1.,  1.,  1.,  1.,  1.,  1.,  1.,  1.,  1.,  1.],\n",
       "       [ 1.,  1.,  1.,  1.,  1.,  1.,  1.,  1.,  1.,  1.],\n",
       "       [ 1.,  1.,  1.,  1.,  1.,  1.,  1.,  1.,  1.,  1.],\n",
       "       [ 1.,  1.,  1.,  1.,  1.,  1.,  1.,  1.,  1.,  1.],\n",
       "       [ 1.,  1.,  1.,  1.,  1.,  1.,  1.,  1.,  1.,  1.],\n",
       "       [ 1.,  1.,  1.,  1.,  1.,  1.,  1.,  1.,  1.,  1.],\n",
       "       [ 1.,  1.,  1.,  1.,  1.,  1.,  1.,  1.,  1.,  1.],\n",
       "       [ 1.,  1.,  1.,  1.,  1.,  1.,  1.,  1.,  1.,  1.],\n",
       "       [ 1.,  1.,  1.,  1.,  1.,  1.,  1.,  1.,  1.,  1.]])"
      ]
     },
     "execution_count": 8,
     "metadata": {},
     "output_type": "execute_result"
    }
   ],
   "source": [
    "O = np.ones((10, 10))    #a matrix of ones 10x10 dimension\n",
    "O"
   ]
  },
  {
   "cell_type": "code",
   "execution_count": 9,
   "metadata": {},
   "outputs": [
    {
     "data": {
      "text/plain": [
       "array([[ 0.17332602,  0.93552502,  0.62007187,  0.79132841,  0.64555363,\n",
       "         0.16196311,  0.51076504,  0.00295552,  0.65834836,  0.47443617],\n",
       "       [ 0.61331937,  0.43603078,  0.74970948,  0.94665435,  0.22350988,\n",
       "         0.78157567,  0.36240327,  0.52351057,  0.83845133,  0.84313585],\n",
       "       [ 0.40016122,  0.35521428,  0.84203609,  0.54465835,  0.8676691 ,\n",
       "         0.2728003 ,  0.10713812,  0.1669011 ,  0.30736937,  0.07114244],\n",
       "       [ 0.18023856,  0.40711071,  0.67489849,  0.80013633,  0.15172591,\n",
       "         0.20572091,  0.98512098,  0.79378309,  0.47002181,  0.99286619],\n",
       "       [ 0.36136809,  0.43461966,  0.10618356,  0.40025425,  0.33808941,\n",
       "         0.52642038,  0.68277713,  0.72047058,  0.63276417,  0.10468847],\n",
       "       [ 0.67677474,  0.12380395,  0.01659938,  0.80540711,  0.7675623 ,\n",
       "         0.29818024,  0.26070952,  0.95850348,  0.58314855,  0.26725684],\n",
       "       [ 0.23245507,  0.065033  ,  0.86839407,  0.56071098,  0.46335146,\n",
       "         0.39726791,  0.01306066,  0.3448872 ,  0.45476667,  0.35402267],\n",
       "       [ 0.88996489,  0.29192531,  0.70289185,  0.19187141,  0.56139515,\n",
       "         0.67455023,  0.91606289,  0.66245367,  0.28166758,  0.98502695],\n",
       "       [ 0.78639911,  0.91178111,  0.21685608,  0.95673216,  0.13567709,\n",
       "         0.72814285,  0.8336215 ,  0.60718477,  0.61587878,  0.20341169],\n",
       "       [ 0.7413522 ,  0.75363239,  0.44100661,  0.6899852 ,  0.57923446,\n",
       "         0.72111013,  0.50731306,  0.94870485,  0.61029458,  0.15000206]])"
      ]
     },
     "execution_count": 9,
     "metadata": {},
     "output_type": "execute_result"
    }
   ],
   "source": [
    "R = np.random.random((10, 10))    #a matrix of size 10x10 having random numbers\n",
    "R"
   ]
  },
  {
   "cell_type": "markdown",
   "metadata": {},
   "source": [
    "This above random function uses numbers ( 0<number<1 ), in an uniformly distributed way.\n",
    "\n",
    "So we use another function, to get gaussian distributed function.....to get numbers with approx mean=0 & variance=1."
   ]
  },
  {
   "cell_type": "code",
   "execution_count": 10,
   "metadata": {},
   "outputs": [
    {
     "ename": "TypeError",
     "evalue": "'tuple' object cannot be interpreted as an integer",
     "output_type": "error",
     "traceback": [
      "\u001b[1;31m---------------------------------------------------------------------------\u001b[0m",
      "\u001b[1;31mTypeError\u001b[0m                                 Traceback (most recent call last)",
      "\u001b[1;32m<ipython-input-10-cceb138f5120>\u001b[0m in \u001b[0;36m<module>\u001b[1;34m()\u001b[0m\n\u001b[1;32m----> 1\u001b[1;33m \u001b[0mG\u001b[0m \u001b[1;33m=\u001b[0m \u001b[0mnp\u001b[0m\u001b[1;33m.\u001b[0m\u001b[0mrandom\u001b[0m\u001b[1;33m.\u001b[0m\u001b[0mrandn\u001b[0m\u001b[1;33m(\u001b[0m\u001b[1;33m(\u001b[0m\u001b[1;36m10\u001b[0m\u001b[1;33m,\u001b[0m\u001b[1;36m10\u001b[0m\u001b[1;33m)\u001b[0m\u001b[1;33m)\u001b[0m\u001b[1;33m\u001b[0m\u001b[0m\n\u001b[0m\u001b[0;32m      2\u001b[0m \u001b[0mG\u001b[0m\u001b[1;33m\u001b[0m\u001b[0m\n",
      "\u001b[1;32mmtrand.pyx\u001b[0m in \u001b[0;36mmtrand.RandomState.randn (numpy\\random\\mtrand\\mtrand.c:19843)\u001b[1;34m()\u001b[0m\n",
      "\u001b[1;32mmtrand.pyx\u001b[0m in \u001b[0;36mmtrand.RandomState.standard_normal (numpy\\random\\mtrand\\mtrand.c:20368)\u001b[1;34m()\u001b[0m\n",
      "\u001b[1;32mmtrand.pyx\u001b[0m in \u001b[0;36mmtrand.cont0_array (numpy\\random\\mtrand\\mtrand.c:6127)\u001b[1;34m()\u001b[0m\n",
      "\u001b[1;31mTypeError\u001b[0m: 'tuple' object cannot be interpreted as an integer"
     ]
    }
   ],
   "source": [
    "G = np.random.randn((10,10))\n",
    "G"
   ]
  },
  {
   "cell_type": "markdown",
   "metadata": {},
   "source": [
    "randn() function is the ONLY function among these categories, where the dimensions are supplied as separate arguments. All other functions take in one argument only in which dimensions are given as a whole."
   ]
  },
  {
   "cell_type": "code",
   "execution_count": 15,
   "metadata": {},
   "outputs": [
    {
     "data": {
      "text/plain": [
       "array([[ 1.86201167,  0.62067596, -1.08153988, -1.17683157, -1.59477219,\n",
       "        -0.64305794,  0.26893269,  0.38382178,  0.23279305, -0.5672149 ],\n",
       "       [-1.06934507, -0.36155459,  0.30059186, -0.66013686, -0.76919724,\n",
       "        -0.71861597, -0.51073403,  0.04068374,  0.1123256 , -0.62851299],\n",
       "       [ 0.5950845 ,  0.27495622, -0.53330105,  1.88131426,  0.89883995,\n",
       "        -2.93364298, -0.26898379,  1.54212579,  1.96868313, -0.65689677],\n",
       "       [-0.88707801,  0.94990821, -0.61121287,  1.43927635, -0.37198252,\n",
       "        -0.90840692,  2.13745266,  1.3901919 , -0.76773357,  0.27304917],\n",
       "       [ 0.70720077, -0.28198777, -0.24167861,  0.46565194, -1.30222522,\n",
       "         0.08619946, -1.47245806,  0.54274942,  0.82811243,  0.48858777],\n",
       "       [ 0.81264725, -0.25869407, -0.83876647,  2.30048415,  0.29327033,\n",
       "        -1.0185044 , -0.90792725,  0.11455402, -1.08775189, -0.83744624],\n",
       "       [-0.25053174, -0.05185479, -0.35446038,  1.72442326,  0.9827028 ,\n",
       "         1.05484976,  0.01870217, -0.08033309, -0.75154639,  0.79271078],\n",
       "       [-0.04461715, -0.19525457,  0.11863159, -0.3198035 ,  0.41751762,\n",
       "        -0.22366691,  0.96082023, -1.32180101,  1.14118996,  1.74113175],\n",
       "       [ 0.17711832,  0.41565404, -1.07604224,  0.17436172, -1.68652486,\n",
       "        -0.54502324, -0.91246482, -0.07160586,  1.18151984,  0.56818658],\n",
       "       [ 0.01450907,  0.59099674, -0.60751798, -0.9585914 , -0.82160817,\n",
       "        -0.9262753 , -0.87332554,  0.68570385, -0.27823108, -1.73459314]])"
      ]
     },
     "execution_count": 15,
     "metadata": {},
     "output_type": "execute_result"
    }
   ],
   "source": [
    "#So the correct version ONLY of randn() function:\n",
    "G = np.random.randn(10,10)\n",
    "G"
   ]
  },
  {
   "cell_type": "code",
   "execution_count": 16,
   "metadata": {},
   "outputs": [
    {
     "data": {
      "text/plain": [
       "(-0.034809587608444492, 0.91027233692457887)"
      ]
     },
     "execution_count": 16,
     "metadata": {},
     "output_type": "execute_result"
    }
   ],
   "source": [
    "G.mean(), G.var()"
   ]
  },
  {
   "cell_type": "code",
   "execution_count": null,
   "metadata": {
    "collapsed": true
   },
   "outputs": [],
   "source": []
  }
 ],
 "metadata": {
  "kernelspec": {
   "display_name": "Python 3",
   "language": "python",
   "name": "python3"
  },
  "language_info": {
   "codemirror_mode": {
    "name": "ipython",
    "version": 3
   },
   "file_extension": ".py",
   "mimetype": "text/x-python",
   "name": "python",
   "nbconvert_exporter": "python",
   "pygments_lexer": "ipython3",
   "version": "3.6.1"
  }
 },
 "nbformat": 4,
 "nbformat_minor": 2
}
