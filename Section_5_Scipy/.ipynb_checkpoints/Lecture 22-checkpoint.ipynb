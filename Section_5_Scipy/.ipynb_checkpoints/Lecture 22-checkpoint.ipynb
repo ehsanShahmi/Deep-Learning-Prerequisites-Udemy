{
 "cells": [
  {
   "cell_type": "markdown",
   "metadata": {},
   "source": [
    "# Gaussian PDF and CDF"
   ]
  },
  {
   "cell_type": "markdown",
   "metadata": {},
   "source": [
    "#### Gaussian PDF function = (1 / sqrt(2 * PI * poison**2)) * exp**-(((x-meu)**2) / (2 * poison**2) )\n",
    "\n",
    "Scipy is the fastest to calculate these type of complex equations. We ALWAYS have to use scipy."
   ]
  },
  {
   "cell_type": "code",
   "execution_count": 4,
   "metadata": {
    "collapsed": true
   },
   "outputs": [],
   "source": [
    "from scipy.stats import norm\n",
    "import numpy as np"
   ]
  },
  {
   "cell_type": "code",
   "execution_count": 2,
   "metadata": {},
   "outputs": [
    {
     "data": {
      "text/plain": [
       "0.3989422804014327"
      ]
     },
     "execution_count": 2,
     "metadata": {},
     "output_type": "execute_result"
    }
   ],
   "source": [
    "# We find the PDF of zero first, as an example\n",
    "norm.pdf(0)"
   ]
  },
  {
   "cell_type": "code",
   "execution_count": 3,
   "metadata": {},
   "outputs": [
    {
     "data": {
      "text/plain": [
       "0.035206532676429952"
      ]
     },
     "execution_count": 3,
     "metadata": {},
     "output_type": "execute_result"
    }
   ],
   "source": [
    "# Since we are working with Gaussian pdf, mean can be other than 0 & stand.Deviation(variance**2) can be other than 1\n",
    "norm.pdf(0, loc=5, scale=10)\n",
    "#loc argument gives mean...scale gives standard_Deviation...means variance of 100"
   ]
  },
  {
   "cell_type": "markdown",
   "metadata": {},
   "source": [
    "Thus we see that this has a much smaller probability density...since mean and variances are changed"
   ]
  },
  {
   "cell_type": "markdown",
   "metadata": {},
   "source": [
    "#### We can calculate the pdf of many random points at the same time...using rand() to generate random points and then using scipy"
   ]
  },
  {
   "cell_type": "code",
   "execution_count": 5,
   "metadata": {},
   "outputs": [
    {
     "data": {
      "text/plain": [
       "array([ 0.26415992,  0.2022081 ,  0.37892134,  0.36424636,  0.36544156,\n",
       "        0.38901008,  0.29919188,  0.39623371,  0.36268198,  0.18635966])"
      ]
     },
     "execution_count": 5,
     "metadata": {},
     "output_type": "execute_result"
    }
   ],
   "source": [
    "r = np.random.randn(10)    # Generating PDF of 10 random numbers\n",
    "norm.pdf(r)"
   ]
  },
  {
   "cell_type": "markdown",
   "metadata": {},
   "source": [
    "#### The actuall Gaussian pdf have exponential, so we can take pog on both sides...log saves time much more\n",
    "#### Also, rather than multiplication, summation saves up much time...SO we use log PDF rather than normal Gaussian pdf"
   ]
  },
  {
   "cell_type": "code",
   "execution_count": 6,
   "metadata": {},
   "outputs": [
    {
     "data": {
      "text/plain": [
       "array([-1.33120062, -1.59845789, -0.97042663, -1.00992482, -1.00664889,\n",
       "       -0.94415002, -1.20667017, -0.92575107, -1.01422891, -1.6800768 ])"
      ]
     },
     "execution_count": 6,
     "metadata": {},
     "output_type": "execute_result"
    }
   ],
   "source": [
    "# This log pdf is just given simply using another function of scipy\n",
    "norm.logpdf(r)"
   ]
  },
  {
   "cell_type": "markdown",
   "metadata": {},
   "source": [
    "#### We now need CDF(cumulative densty func). This is the integral of PDF from -infinity to x.\n",
    "#### This integral is not possible to find mathematically as an expression...but we can do this by computing manually."
   ]
  },
  {
   "cell_type": "code",
   "execution_count": 7,
   "metadata": {},
   "outputs": [
    {
     "data": {
      "text/plain": [
       "array([ 0.18193036,  0.87814793,  0.37414345,  0.33484175,  0.66233075,\n",
       "        0.58883556,  0.77595196,  0.4535384 ,  0.33121685,  0.10863765])"
      ]
     },
     "execution_count": 7,
     "metadata": {},
     "output_type": "execute_result"
    }
   ],
   "source": [
    "norm.cdf(r)"
   ]
  },
  {
   "cell_type": "code",
   "execution_count": 8,
   "metadata": {},
   "outputs": [
    {
     "data": {
      "text/plain": [
       "array([-1.70413131, -0.12994022, -0.98311601, -1.09409726, -0.41199023,\n",
       "       -0.52960832, -0.25366467, -0.79067535, -1.10498197, -2.2197372 ])"
      ]
     },
     "execution_count": 8,
     "metadata": {},
     "output_type": "execute_result"
    }
   ],
   "source": [
    "# Similar to pdf, there is also log of cdf\n",
    "norm.logcdf(r)"
   ]
  },
  {
   "cell_type": "code",
   "execution_count": null,
   "metadata": {
    "collapsed": true
   },
   "outputs": [],
   "source": []
  }
 ],
 "metadata": {
  "kernelspec": {
   "display_name": "Python 3",
   "language": "python",
   "name": "python3"
  },
  "language_info": {
   "codemirror_mode": {
    "name": "ipython",
    "version": 3
   },
   "file_extension": ".py",
   "mimetype": "text/x-python",
   "name": "python",
   "nbconvert_exporter": "python",
   "pygments_lexer": "ipython3",
   "version": "3.6.1"
  }
 },
 "nbformat": 4,
 "nbformat_minor": 2
}
